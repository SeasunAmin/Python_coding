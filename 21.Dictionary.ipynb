{
 "cells": [
  {
   "cell_type": "markdown",
   "id": "dc195af8",
   "metadata": {},
   "source": [
    "# Dictionary has four inmportant rule:\n",
    "* Dictionary has no indexing\n",
    "* Dictionary is a mutble data type\n",
    "* key is immutble and value can be mutable\n",
    "* keys should be uniqe "
   ]
  },
  {
   "cell_type": "code",
   "execution_count": 1,
   "id": "f7eb6c5b",
   "metadata": {},
   "outputs": [
    {
     "data": {
      "text/plain": [
       "{'name': 'seasun', 'age': 22}"
      ]
     },
     "execution_count": 1,
     "metadata": {},
     "output_type": "execute_result"
    }
   ],
   "source": [
    "info = {\"name\":\"seasun\",\"age\":22}\n",
    "info"
   ]
  },
  {
   "cell_type": "code",
   "execution_count": 5,
   "id": "f9e89439",
   "metadata": {},
   "outputs": [
    {
     "data": {
      "text/plain": [
       "{12: 'seasun', 'age': 22}"
      ]
     },
     "execution_count": 5,
     "metadata": {},
     "output_type": "execute_result"
    }
   ],
   "source": [
    "info = {(12):\"seasun\",\"age\":22}\n",
    "info"
   ]
  },
  {
   "cell_type": "code",
   "execution_count": 9,
   "id": "6d5873d0",
   "metadata": {},
   "outputs": [
    {
     "data": {
      "text/plain": [
       "'seasun'"
      ]
     },
     "execution_count": 9,
     "metadata": {},
     "output_type": "execute_result"
    }
   ],
   "source": [
    "info = {\"name\":\"seasun\",\"age\":22}\n",
    "\n",
    "info[\"name\"]\n"
   ]
  },
  {
   "cell_type": "code",
   "execution_count": 8,
   "id": "09eb7f6f",
   "metadata": {},
   "outputs": [
    {
     "data": {
      "text/plain": [
       "22"
      ]
     },
     "execution_count": 8,
     "metadata": {},
     "output_type": "execute_result"
    }
   ],
   "source": [
    "info[\"age\"]"
   ]
  },
  {
   "cell_type": "code",
   "execution_count": 10,
   "id": "ee9c45be",
   "metadata": {},
   "outputs": [
    {
     "data": {
      "text/plain": [
       "{'name': 'seasun', 'age': 22, 'result': {'cse': 'A+', 'EEE': 'A'}}"
      ]
     },
     "execution_count": 10,
     "metadata": {},
     "output_type": "execute_result"
    }
   ],
   "source": [
    "info = {\"name\":\"seasun\",\"age\":22, \"result\": {\"cse\":\"A+\",\"EEE\":\"A\"} }\n",
    "info"
   ]
  },
  {
   "cell_type": "code",
   "execution_count": 11,
   "id": "593cc4f7",
   "metadata": {},
   "outputs": [],
   "source": [
    "#edit\n",
    "\n",
    "info[\"result\"][\"EEE\"] = \"A+\""
   ]
  },
  {
   "cell_type": "code",
   "execution_count": 12,
   "id": "dd911108",
   "metadata": {},
   "outputs": [
    {
     "data": {
      "text/plain": [
       "{'name': 'seasun', 'age': 22, 'result': {'cse': 'A+', 'EEE': 'A+'}}"
      ]
     },
     "execution_count": 12,
     "metadata": {},
     "output_type": "execute_result"
    }
   ],
   "source": [
    "info"
   ]
  },
  {
   "cell_type": "code",
   "execution_count": null,
   "id": "5e8c755d",
   "metadata": {},
   "outputs": [],
   "source": []
  },
  {
   "cell_type": "code",
   "execution_count": 15,
   "id": "2fb7b1f7",
   "metadata": {},
   "outputs": [
    {
     "data": {
      "text/plain": [
       "{'cse': 'A+', 'EEE': 'A+'}"
      ]
     },
     "execution_count": 15,
     "metadata": {},
     "output_type": "execute_result"
    }
   ],
   "source": [
    "info.get(\"result\")"
   ]
  },
  {
   "cell_type": "code",
   "execution_count": 16,
   "id": "ca914c45",
   "metadata": {},
   "outputs": [
    {
     "data": {
      "text/plain": [
       "{'name': 'seasun', 'result': {'cse': 'A+', 'EEE': 'A+'}}"
      ]
     },
     "execution_count": 16,
     "metadata": {},
     "output_type": "execute_result"
    }
   ],
   "source": [
    "#delete\n",
    "\n",
    "del info[\"age\"]\n",
    "info"
   ]
  },
  {
   "cell_type": "code",
   "execution_count": 18,
   "id": "c3eb51e8",
   "metadata": {},
   "outputs": [
    {
     "name": "stdout",
     "output_type": "stream",
     "text": [
      "name\n",
      "result\n"
     ]
    }
   ],
   "source": [
    "for i in info:\n",
    "    print(i)"
   ]
  },
  {
   "cell_type": "code",
   "execution_count": 19,
   "id": "ac295fd6",
   "metadata": {},
   "outputs": [
    {
     "name": "stdout",
     "output_type": "stream",
     "text": [
      "name seasun\n",
      "result {'cse': 'A+', 'EEE': 'A+'}\n"
     ]
    }
   ],
   "source": [
    "for i in info:\n",
    "    print(i,info[i])"
   ]
  },
  {
   "cell_type": "code",
   "execution_count": 21,
   "id": "4e38f4f0",
   "metadata": {},
   "outputs": [
    {
     "data": {
      "text/plain": [
       "True"
      ]
     },
     "execution_count": 21,
     "metadata": {},
     "output_type": "execute_result"
    }
   ],
   "source": [
    "\"name\" in info"
   ]
  },
  {
   "cell_type": "code",
   "execution_count": 22,
   "id": "e5e0f376",
   "metadata": {},
   "outputs": [
    {
     "data": {
      "text/plain": [
       "dict_keys(['name', 'result'])"
      ]
     },
     "execution_count": 22,
     "metadata": {},
     "output_type": "execute_result"
    }
   ],
   "source": [
    "info.keys()"
   ]
  },
  {
   "cell_type": "code",
   "execution_count": 23,
   "id": "30589cb1",
   "metadata": {},
   "outputs": [
    {
     "data": {
      "text/plain": [
       "dict_values(['seasun', {'cse': 'A+', 'EEE': 'A+'}])"
      ]
     },
     "execution_count": 23,
     "metadata": {},
     "output_type": "execute_result"
    }
   ],
   "source": [
    "info.values()"
   ]
  },
  {
   "cell_type": "code",
   "execution_count": null,
   "id": "316e9cdb",
   "metadata": {},
   "outputs": [],
   "source": []
  }
 ],
 "metadata": {
  "kernelspec": {
   "display_name": "Python 3 (ipykernel)",
   "language": "python",
   "name": "python3"
  },
  "language_info": {
   "codemirror_mode": {
    "name": "ipython",
    "version": 3
   },
   "file_extension": ".py",
   "mimetype": "text/x-python",
   "name": "python",
   "nbconvert_exporter": "python",
   "pygments_lexer": "ipython3",
   "version": "3.9.12"
  },
  "varInspector": {
   "cols": {
    "lenName": 16,
    "lenType": 16,
    "lenVar": 40
   },
   "kernels_config": {
    "python": {
     "delete_cmd_postfix": "",
     "delete_cmd_prefix": "del ",
     "library": "var_list.py",
     "varRefreshCmd": "print(var_dic_list())"
    },
    "r": {
     "delete_cmd_postfix": ") ",
     "delete_cmd_prefix": "rm(",
     "library": "var_list.r",
     "varRefreshCmd": "cat(var_dic_list()) "
    }
   },
   "types_to_exclude": [
    "module",
    "function",
    "builtin_function_or_method",
    "instance",
    "_Feature"
   ],
   "window_display": false
  }
 },
 "nbformat": 4,
 "nbformat_minor": 5
}
