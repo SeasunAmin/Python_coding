{
 "cells": [
  {
   "cell_type": "markdown",
   "id": "6baa2d82",
   "metadata": {},
   "source": [
    "# Class"
   ]
  },
  {
   "cell_type": "code",
   "execution_count": 1,
   "id": "4389c306",
   "metadata": {},
   "outputs": [],
   "source": [
    "class Student:\n",
    "    name = \"\"\n",
    "    id = \"\"\n",
    "    dept = \"\""
   ]
  },
  {
   "cell_type": "code",
   "execution_count": 2,
   "id": "d45a9a1e",
   "metadata": {},
   "outputs": [],
   "source": [
    "info = Student()\n",
    "\n",
    "info.name = \"seasun\"\n",
    "info.id = \"202\"\n",
    "info.dept = \"CSE\"\n"
   ]
  },
  {
   "cell_type": "code",
   "execution_count": 3,
   "id": "99c453ca",
   "metadata": {},
   "outputs": [
    {
     "name": "stdout",
     "output_type": "stream",
     "text": [
      "seasun\n",
      "202\n",
      "CSE\n"
     ]
    }
   ],
   "source": [
    "\n",
    "print(info.name)\n",
    "print(info.id)\n",
    "print(info.dept)"
   ]
  },
  {
   "cell_type": "code",
   "execution_count": 4,
   "id": "2a538009",
   "metadata": {},
   "outputs": [
    {
     "name": "stdout",
     "output_type": "stream",
     "text": [
      "Name : seasun, ID : 202, Dept : CSE \n"
     ]
    }
   ],
   "source": [
    "print(f\"Name : {info.name}, ID : {info.id}, Dept : {info.dept} \")"
   ]
  },
  {
   "cell_type": "code",
   "execution_count": 10,
   "id": "363eb702",
   "metadata": {},
   "outputs": [],
   "source": [
    "info2 = Student()\n",
    "\n",
    "info.name2 = \"Boss\"\n",
    "info.id2 = \"007\"\n",
    "info.dept2 = \"All\""
   ]
  },
  {
   "cell_type": "code",
   "execution_count": 11,
   "id": "632250b5",
   "metadata": {},
   "outputs": [
    {
     "name": "stdout",
     "output_type": "stream",
     "text": [
      "Name : Boss, ID : 007, Dept : All \n"
     ]
    }
   ],
   "source": [
    "print(f\"Name : {info.name}, ID : {info.id}, Dept : {info.dept} \")"
   ]
  },
  {
   "cell_type": "markdown",
   "id": "9b37553b",
   "metadata": {},
   "source": [
    "# Method"
   ]
  },
  {
   "cell_type": "code",
   "execution_count": 18,
   "id": "fe5e2f45",
   "metadata": {},
   "outputs": [],
   "source": [
    "class Seasun:\n",
    "    \n",
    "    name = \"\"\n",
    "    id = \"\"\n",
    "    \n",
    "    def info(self,name,id):\n",
    "        self.name = name\n",
    "        self.id = id\n",
    "        \n",
    "    \n",
    "    def display(self):\n",
    "        print(f\"Name : {self.name} ID : {self.id}\")"
   ]
  },
  {
   "cell_type": "code",
   "execution_count": 20,
   "id": "6c695728",
   "metadata": {},
   "outputs": [
    {
     "name": "stdout",
     "output_type": "stream",
     "text": [
      "Name : Boss comming ID : 007\n"
     ]
    }
   ],
   "source": [
    "boss = Seasun()\n",
    "\n",
    "boss.info(\"Boss cmming\",\"007\")\n",
    "\n",
    "boss.display()"
   ]
  },
  {
   "cell_type": "markdown",
   "id": "996362d6",
   "metadata": {},
   "source": [
    "# Constructor"
   ]
  },
  {
   "cell_type": "code",
   "execution_count": 22,
   "id": "ca41642c",
   "metadata": {},
   "outputs": [],
   "source": [
    "class Cse:\n",
    "    \n",
    "    sub = \"\"\n",
    "    code = 0\n",
    "    \n",
    "    def __init__(self,sub,code):\n",
    "        self.sub = sub\n",
    "        self.code = code\n",
    "        \n",
    "    def show(self):\n",
    "        print(f\"Name : {self.sub}, ID : {self.code} \")"
   ]
  },
  {
   "cell_type": "code",
   "execution_count": 23,
   "id": "261432ac",
   "metadata": {},
   "outputs": [
    {
     "name": "stdout",
     "output_type": "stream",
     "text": [
      "Name : Java, ID : 2090 \n"
     ]
    }
   ],
   "source": [
    "obj = Cse(\"Java\",2090)\n",
    "obj.show()"
   ]
  },
  {
   "cell_type": "markdown",
   "id": "fde4fabd",
   "metadata": {},
   "source": [
    "# Inheritence\n"
   ]
  },
  {
   "cell_type": "code",
   "execution_count": 34,
   "id": "0ea3402a",
   "metadata": {},
   "outputs": [],
   "source": [
    "class Iphone:\n",
    "    def camera(self):\n",
    "        print(\"Iphone has Good Camera.\")\n",
    "    def speed(self):\n",
    "        print(\"Iphone perform very fast.\")\n"
   ]
  },
  {
   "cell_type": "code",
   "execution_count": 38,
   "id": "3f5c8b17",
   "metadata": {},
   "outputs": [],
   "source": [
    "class Mi(Iphone):\n",
    "    def battery(self):\n",
    "        print(\"Backup long.\")"
   ]
  },
  {
   "cell_type": "code",
   "execution_count": 40,
   "id": "09057c73",
   "metadata": {},
   "outputs": [
    {
     "name": "stdout",
     "output_type": "stream",
     "text": [
      "Iphone has Good Camera.\n",
      "Iphone perform very fast.\n",
      "Backup long.\n",
      "Iphone has Good Camera.\n",
      "Iphone perform very fast.\n"
     ]
    }
   ],
   "source": [
    "phone_1 = Iphone()\n",
    "phone_2 = Mi()\n",
    "\n",
    "phone_1.camera()\n",
    "phone_1.speed()\n",
    "\n",
    "phone_2.battery()\n",
    "phone_2.camera()\n",
    "phone_2.speed()"
   ]
  },
  {
   "cell_type": "code",
   "execution_count": 52,
   "id": "a303b180",
   "metadata": {},
   "outputs": [],
   "source": [
    "class Mi_2(Mi_2,Iphone):\n",
    "    def demo(self):\n",
    "        print(\"Nothing long.\")"
   ]
  },
  {
   "cell_type": "code",
   "execution_count": 54,
   "id": "7f271808",
   "metadata": {},
   "outputs": [
    {
     "name": "stdout",
     "output_type": "stream",
     "text": [
      "Nothing long.\n",
      "Iphone has Good Camera.\n"
     ]
    }
   ],
   "source": [
    "phone_3 = Mi_2()\n",
    "phone_3.demo()\n",
    "phone_3.camera()\n"
   ]
  },
  {
   "cell_type": "code",
   "execution_count": null,
   "id": "80f362c8",
   "metadata": {},
   "outputs": [],
   "source": []
  }
 ],
 "metadata": {
  "kernelspec": {
   "display_name": "Python 3 (ipykernel)",
   "language": "python",
   "name": "python3"
  },
  "language_info": {
   "codemirror_mode": {
    "name": "ipython",
    "version": 3
   },
   "file_extension": ".py",
   "mimetype": "text/x-python",
   "name": "python",
   "nbconvert_exporter": "python",
   "pygments_lexer": "ipython3",
   "version": "3.9.12"
  },
  "varInspector": {
   "cols": {
    "lenName": 16,
    "lenType": 16,
    "lenVar": 40
   },
   "kernels_config": {
    "python": {
     "delete_cmd_postfix": "",
     "delete_cmd_prefix": "del ",
     "library": "var_list.py",
     "varRefreshCmd": "print(var_dic_list())"
    },
    "r": {
     "delete_cmd_postfix": ") ",
     "delete_cmd_prefix": "rm(",
     "library": "var_list.r",
     "varRefreshCmd": "cat(var_dic_list()) "
    }
   },
   "types_to_exclude": [
    "module",
    "function",
    "builtin_function_or_method",
    "instance",
    "_Feature"
   ],
   "window_display": false
  }
 },
 "nbformat": 4,
 "nbformat_minor": 5
}
