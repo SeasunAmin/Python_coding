{
 "cells": [
  {
   "cell_type": "markdown",
   "id": "6f901ade",
   "metadata": {},
   "source": [
    "# Input function\n",
    "   User input is allways in a String."
   ]
  },
  {
   "cell_type": "code",
   "execution_count": 1,
   "id": "c04ae89d",
   "metadata": {},
   "outputs": [
    {
     "name": "stdout",
     "output_type": "stream",
     "text": [
      "d\n"
     ]
    },
    {
     "data": {
      "text/plain": [
       "'d'"
      ]
     },
     "execution_count": 1,
     "metadata": {},
     "output_type": "execute_result"
    }
   ],
   "source": [
    "input()"
   ]
  },
  {
   "cell_type": "code",
   "execution_count": 2,
   "id": "1d96f866",
   "metadata": {},
   "outputs": [
    {
     "name": "stdout",
     "output_type": "stream",
     "text": [
      " enter num 1 :10\n",
      "enter num 2 :12\n"
     ]
    }
   ],
   "source": [
    "num1 = input(\" enter num 1 :\")\n",
    "num2 = input(\"enter num 2 :\")"
   ]
  },
  {
   "cell_type": "code",
   "execution_count": 3,
   "id": "a56339f5",
   "metadata": {},
   "outputs": [
    {
     "name": "stdout",
     "output_type": "stream",
     "text": [
      "1012\n"
     ]
    }
   ],
   "source": [
    "result = num1+num2\n",
    "print(result)"
   ]
  },
  {
   "cell_type": "markdown",
   "id": "44b25283",
   "metadata": {},
   "source": [
    "# Type conversion\n",
    "It is not a permanent operation"
   ]
  },
  {
   "cell_type": "markdown",
   "id": "2976b6a4",
   "metadata": {},
   "source": [
    "**There are two tyes of conversion in pythom**\n",
    "* Implicit (Done my python)\n",
    "* explicit (Done by user/programer)\n"
   ]
  },
  {
   "cell_type": "code",
   "execution_count": 4,
   "id": "f23ea17f",
   "metadata": {},
   "outputs": [
    {
     "name": "stdout",
     "output_type": "stream",
     "text": [
      "9.5\n"
     ]
    }
   ],
   "source": [
    "#implicit convertion\n",
    "\n",
    "num = 5 + 4.5\n",
    "print(num)"
   ]
  },
  {
   "cell_type": "code",
   "execution_count": 13,
   "id": "79a3a9aa",
   "metadata": {},
   "outputs": [
    {
     "name": "stdout",
     "output_type": "stream",
     "text": [
      "10\n",
      "10.0\n",
      "10\n",
      "True\n",
      "(10+0j)\n",
      "['H', 'e', 'l', 'l', 'o']\n"
     ]
    }
   ],
   "source": [
    "#explicit conversion\n",
    "\n",
    "print(int(10))\n",
    "print(float(10))\n",
    "print(str(10))\n",
    "print(bool(10))\n",
    "print(complex(10))\n",
    "print(list(\"Hello\"))\n",
    "\n"
   ]
  },
  {
   "cell_type": "code",
   "execution_count": 14,
   "id": "442c48dc",
   "metadata": {},
   "outputs": [
    {
     "name": "stdout",
     "output_type": "stream",
     "text": [
      " enter num 1 :10\n",
      "enter num 2 :20\n"
     ]
    }
   ],
   "source": [
    "num1 = int(input(\" enter num 1 :\"))\n",
    "num2 = int(input(\"enter num 2 :\"))"
   ]
  },
  {
   "cell_type": "code",
   "execution_count": null,
   "id": "b8e270cc",
   "metadata": {},
   "outputs": [],
   "source": [
    "result = num1+num2\n",
    "print(result)"
   ]
  }
 ],
 "metadata": {
  "kernelspec": {
   "display_name": "Python 3 (ipykernel)",
   "language": "python",
   "name": "python3"
  },
  "language_info": {
   "codemirror_mode": {
    "name": "ipython",
    "version": 3
   },
   "file_extension": ".py",
   "mimetype": "text/x-python",
   "name": "python",
   "nbconvert_exporter": "python",
   "pygments_lexer": "ipython3",
   "version": "3.9.12"
  },
  "varInspector": {
   "cols": {
    "lenName": 16,
    "lenType": 16,
    "lenVar": 40
   },
   "kernels_config": {
    "python": {
     "delete_cmd_postfix": "",
     "delete_cmd_prefix": "del ",
     "library": "var_list.py",
     "varRefreshCmd": "print(var_dic_list())"
    },
    "r": {
     "delete_cmd_postfix": ") ",
     "delete_cmd_prefix": "rm(",
     "library": "var_list.r",
     "varRefreshCmd": "cat(var_dic_list()) "
    }
   },
   "types_to_exclude": [
    "module",
    "function",
    "builtin_function_or_method",
    "instance",
    "_Feature"
   ],
   "window_display": false
  }
 },
 "nbformat": 4,
 "nbformat_minor": 5
}
