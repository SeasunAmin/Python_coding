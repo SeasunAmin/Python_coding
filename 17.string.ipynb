{
 "cells": [
  {
   "cell_type": "markdown",
   "id": "e0ba5808",
   "metadata": {},
   "source": [
    "# String\n",
    "In python strings are sequence of unicode characters\n",
    "* Creating String\n",
    "* Accessing String\n",
    "* Adding Chars to String\n",
    "* Editing String\n",
    "* Deleting String\n",
    "* Operations in Sring\n",
    "* String Function"
   ]
  },
  {
   "cell_type": "markdown",
   "id": "921c404b",
   "metadata": {},
   "source": [
    "**Creating Strings**"
   ]
  },
  {
   "cell_type": "code",
   "execution_count": 2,
   "id": "2ca4e9f4",
   "metadata": {},
   "outputs": [
    {
     "name": "stdout",
     "output_type": "stream",
     "text": [
      "seasun\n"
     ]
    }
   ],
   "source": [
    "name = \"seasun\"\n",
    "print(name)"
   ]
  },
  {
   "cell_type": "markdown",
   "id": "bed0b215",
   "metadata": {},
   "source": [
    "**Accessing Substring from a string**"
   ]
  },
  {
   "cell_type": "code",
   "execution_count": 3,
   "id": "12b7fb86",
   "metadata": {},
   "outputs": [
    {
     "name": "stdout",
     "output_type": "stream",
     "text": [
      "s\n"
     ]
    }
   ],
   "source": [
    "name = \"seasun\"\n",
    "\n",
    "print(name[3])"
   ]
  },
  {
   "cell_type": "markdown",
   "id": "4d776154",
   "metadata": {},
   "source": [
    "Types of Indexing\n",
    "* positive indexing\n",
    "* negative indexing"
   ]
  },
  {
   "cell_type": "code",
   "execution_count": 4,
   "id": "d2aab48e",
   "metadata": {},
   "outputs": [
    {
     "name": "stdout",
     "output_type": "stream",
     "text": [
      "a\n"
     ]
    }
   ],
   "source": [
    "print(name[2]) "
   ]
  },
  {
   "cell_type": "code",
   "execution_count": 5,
   "id": "1e86205c",
   "metadata": {},
   "outputs": [
    {
     "name": "stdout",
     "output_type": "stream",
     "text": [
      "s\n"
     ]
    }
   ],
   "source": [
    "print(name[-3])"
   ]
  },
  {
   "cell_type": "markdown",
   "id": "d0028478",
   "metadata": {},
   "source": [
    "Slicing"
   ]
  },
  {
   "cell_type": "code",
   "execution_count": 11,
   "id": "4b769859",
   "metadata": {},
   "outputs": [
    {
     "name": "stdout",
     "output_type": "stream",
     "text": [
      "seasun\n",
      "amin\n",
      "esnai\n"
     ]
    }
   ],
   "source": [
    "name = \"seasun amin\"\n",
    "\n",
    "print(name[0:6])\n",
    "print(name[7:11])\n",
    "print(name[1:11:2])"
   ]
  },
  {
   "cell_type": "code",
   "execution_count": 12,
   "id": "6e68ba08",
   "metadata": {},
   "outputs": [
    {
     "name": "stdout",
     "output_type": "stream",
     "text": [
      "nima nusaes\n"
     ]
    }
   ],
   "source": [
    "#revarse string\n",
    "\n",
    "print(name[::-1])"
   ]
  },
  {
   "cell_type": "markdown",
   "id": "bfcba3ee",
   "metadata": {},
   "source": [
    "**Delete and edit string**\n",
    "* In Python , Strings are Immuatable data type"
   ]
  },
  {
   "cell_type": "markdown",
   "id": "815ab62d",
   "metadata": {},
   "source": [
    "**operations in string**"
   ]
  },
  {
   "cell_type": "code",
   "execution_count": 13,
   "id": "6fe830e6",
   "metadata": {},
   "outputs": [
    {
     "data": {
      "text/plain": [
       "'seasunamin'"
      ]
     },
     "execution_count": 13,
     "metadata": {},
     "output_type": "execute_result"
    }
   ],
   "source": [
    "\"seasun\" + \"amin\""
   ]
  },
  {
   "cell_type": "code",
   "execution_count": 14,
   "id": "f4a82dec",
   "metadata": {},
   "outputs": [
    {
     "data": {
      "text/plain": [
       "'**********'"
      ]
     },
     "execution_count": 14,
     "metadata": {},
     "output_type": "execute_result"
    }
   ],
   "source": [
    "\"*\"*10"
   ]
  },
  {
   "cell_type": "code",
   "execution_count": 15,
   "id": "655c073b",
   "metadata": {},
   "outputs": [
    {
     "data": {
      "text/plain": [
       "False"
      ]
     },
     "execution_count": 15,
     "metadata": {},
     "output_type": "execute_result"
    }
   ],
   "source": [
    "\"hello\" == \"world\""
   ]
  },
  {
   "cell_type": "code",
   "execution_count": 16,
   "id": "1f6e17bb",
   "metadata": {},
   "outputs": [
    {
     "data": {
      "text/plain": [
       "False"
      ]
     },
     "execution_count": 16,
     "metadata": {},
     "output_type": "execute_result"
    }
   ],
   "source": [
    "\"hello\" > \"world\""
   ]
  },
  {
   "cell_type": "code",
   "execution_count": 17,
   "id": "c9665bac",
   "metadata": {},
   "outputs": [
    {
     "data": {
      "text/plain": [
       "False"
      ]
     },
     "execution_count": 17,
     "metadata": {},
     "output_type": "execute_result"
    }
   ],
   "source": [
    "\"hello\" > \"world\""
   ]
  },
  {
   "cell_type": "code",
   "execution_count": 19,
   "id": "c594b73a",
   "metadata": {},
   "outputs": [
    {
     "data": {
      "text/plain": [
       "True"
      ]
     },
     "execution_count": 19,
     "metadata": {},
     "output_type": "execute_result"
    }
   ],
   "source": [
    "\"hello\" != \"world\""
   ]
  },
  {
   "cell_type": "markdown",
   "id": "3499db90",
   "metadata": {},
   "source": [
    "**Common String Function**\n",
    "* len\n",
    "* min\n",
    "* max\n",
    "* sorted"
   ]
  },
  {
   "cell_type": "code",
   "execution_count": 25,
   "id": "6509d16f",
   "metadata": {},
   "outputs": [
    {
     "data": {
      "text/plain": [
       "10"
      ]
     },
     "execution_count": 25,
     "metadata": {},
     "output_type": "execute_result"
    }
   ],
   "source": [
    "name = \"bangaldesh\"\n",
    "len(name)"
   ]
  },
  {
   "cell_type": "code",
   "execution_count": 26,
   "id": "bdeb9d65",
   "metadata": {},
   "outputs": [
    {
     "data": {
      "text/plain": [
       "'a'"
      ]
     },
     "execution_count": 26,
     "metadata": {},
     "output_type": "execute_result"
    }
   ],
   "source": [
    "min(name)"
   ]
  },
  {
   "cell_type": "code",
   "execution_count": 27,
   "id": "1e1d421e",
   "metadata": {},
   "outputs": [
    {
     "data": {
      "text/plain": [
       "'s'"
      ]
     },
     "execution_count": 27,
     "metadata": {},
     "output_type": "execute_result"
    }
   ],
   "source": [
    "max(name)"
   ]
  },
  {
   "cell_type": "code",
   "execution_count": 28,
   "id": "b439602f",
   "metadata": {},
   "outputs": [
    {
     "data": {
      "text/plain": [
       "['a', 'a', 'b', 'd', 'e', 'g', 'h', 'l', 'n', 's']"
      ]
     },
     "execution_count": 28,
     "metadata": {},
     "output_type": "execute_result"
    }
   ],
   "source": [
    "sorted(name)"
   ]
  },
  {
   "cell_type": "code",
   "execution_count": 29,
   "id": "94c5901e",
   "metadata": {},
   "outputs": [
    {
     "data": {
      "text/plain": [
       "['s', 'n', 'l', 'h', 'g', 'e', 'd', 'b', 'a', 'a']"
      ]
     },
     "execution_count": 29,
     "metadata": {},
     "output_type": "execute_result"
    }
   ],
   "source": [
    "sorted(name,reverse=True)"
   ]
  },
  {
   "cell_type": "markdown",
   "id": "4dd6ff12",
   "metadata": {},
   "source": [
    "**1.Capitalize/Title/upper/lower/swapcase**"
   ]
  },
  {
   "cell_type": "code",
   "execution_count": 30,
   "id": "56fa2686",
   "metadata": {},
   "outputs": [
    {
     "data": {
      "text/plain": [
       "'Seasun'"
      ]
     },
     "execution_count": 30,
     "metadata": {},
     "output_type": "execute_result"
    }
   ],
   "source": [
    "\"seasun\".capitalize()"
   ]
  },
  {
   "cell_type": "code",
   "execution_count": 31,
   "id": "265ccd69",
   "metadata": {},
   "outputs": [
    {
     "data": {
      "text/plain": [
       "'Seasun'"
      ]
     },
     "execution_count": 31,
     "metadata": {},
     "output_type": "execute_result"
    }
   ],
   "source": [
    "\"seasun\".title()"
   ]
  },
  {
   "cell_type": "code",
   "execution_count": 33,
   "id": "39235fd3",
   "metadata": {},
   "outputs": [
    {
     "data": {
      "text/plain": [
       "'SEASUN'"
      ]
     },
     "execution_count": 33,
     "metadata": {},
     "output_type": "execute_result"
    }
   ],
   "source": [
    "\"seasun\".upper()"
   ]
  },
  {
   "cell_type": "code",
   "execution_count": 35,
   "id": "39086463",
   "metadata": {},
   "outputs": [
    {
     "data": {
      "text/plain": [
       "'seasun'"
      ]
     },
     "execution_count": 35,
     "metadata": {},
     "output_type": "execute_result"
    }
   ],
   "source": [
    "'SEASUN'.lower()"
   ]
  },
  {
   "cell_type": "code",
   "execution_count": 36,
   "id": "4c3365ce",
   "metadata": {},
   "outputs": [
    {
     "data": {
      "text/plain": [
       "'SEASUN'"
      ]
     },
     "execution_count": 36,
     "metadata": {},
     "output_type": "execute_result"
    }
   ],
   "source": [
    "\"seasun\".swapcase()"
   ]
  },
  {
   "cell_type": "markdown",
   "id": "8de58747",
   "metadata": {},
   "source": [
    "**2.Count**"
   ]
  },
  {
   "cell_type": "code",
   "execution_count": 37,
   "id": "5b0a1018",
   "metadata": {},
   "outputs": [
    {
     "data": {
      "text/plain": [
       "3"
      ]
     },
     "execution_count": 37,
     "metadata": {},
     "output_type": "execute_result"
    }
   ],
   "source": [
    "\"Hello my dear friends\".count(\"e\")"
   ]
  },
  {
   "cell_type": "markdown",
   "id": "28411750",
   "metadata": {},
   "source": [
    "**3.Fiend/Index**"
   ]
  },
  {
   "cell_type": "code",
   "execution_count": 41,
   "id": "d3c36535",
   "metadata": {},
   "outputs": [
    {
     "data": {
      "text/plain": [
       "3"
      ]
     },
     "execution_count": 41,
     "metadata": {},
     "output_type": "execute_result"
    }
   ],
   "source": [
    "\"Bangladesh suck\".find(\"g\")"
   ]
  },
  {
   "cell_type": "code",
   "execution_count": 42,
   "id": "67f6fb65",
   "metadata": {},
   "outputs": [
    {
     "data": {
      "text/plain": [
       "11"
      ]
     },
     "execution_count": 42,
     "metadata": {},
     "output_type": "execute_result"
    }
   ],
   "source": [
    "\"Bangladesh suck\".index(\"suck\")"
   ]
  },
  {
   "cell_type": "markdown",
   "id": "be98a1d4",
   "metadata": {},
   "source": [
    "**4.endswith/startswith**"
   ]
  },
  {
   "cell_type": "code",
   "execution_count": 44,
   "id": "b0372d05",
   "metadata": {},
   "outputs": [
    {
     "data": {
      "text/plain": [
       "True"
      ]
     },
     "execution_count": 44,
     "metadata": {},
     "output_type": "execute_result"
    }
   ],
   "source": [
    "\"Bangladesh suck\".endswith(\"k\")"
   ]
  },
  {
   "cell_type": "code",
   "execution_count": 45,
   "id": "59426b33",
   "metadata": {},
   "outputs": [
    {
     "data": {
      "text/plain": [
       "False"
      ]
     },
     "execution_count": 45,
     "metadata": {},
     "output_type": "execute_result"
    }
   ],
   "source": [
    "\"Bangladesh suck\".startswith(\"g\")"
   ]
  },
  {
   "cell_type": "markdown",
   "id": "e2c8e71d",
   "metadata": {},
   "source": [
    "**5.format**\n",
    "\n"
   ]
  },
  {
   "cell_type": "code",
   "execution_count": 47,
   "id": "aed7fa86",
   "metadata": {},
   "outputs": [
    {
     "data": {
      "text/plain": [
       "'I am seasun NUB - CSE'"
      ]
     },
     "execution_count": 47,
     "metadata": {},
     "output_type": "execute_result"
    }
   ],
   "source": [
    "\"I am seasun NUB - {}\".format(\"CSE\")"
   ]
  },
  {
   "cell_type": "code",
   "execution_count": 49,
   "id": "2a1dbb67",
   "metadata": {},
   "outputs": [
    {
     "data": {
      "text/plain": [
       "'I am seasun NUB - CSE batch 52'"
      ]
     },
     "execution_count": 49,
     "metadata": {},
     "output_type": "execute_result"
    }
   ],
   "source": [
    "\"I am seasun NUB - {} batch {}\".format(\"CSE\",\"52\")"
   ]
  },
  {
   "cell_type": "code",
   "execution_count": 52,
   "id": "1d587a67",
   "metadata": {},
   "outputs": [
    {
     "data": {
      "text/plain": [
       "'I am seasun NUB - CSE batch 52'"
      ]
     },
     "execution_count": 52,
     "metadata": {},
     "output_type": "execute_result"
    }
   ],
   "source": [
    "\"I am seasun NUB - {dep} batch {bat}\".format(dep=\"CSE\",bat=\"52\")"
   ]
  },
  {
   "cell_type": "markdown",
   "id": "7b0b346b",
   "metadata": {},
   "source": [
    "**6.isalnum/islpha/isdecimal/isdigit/isidentifir**"
   ]
  },
  {
   "cell_type": "code",
   "execution_count": 55,
   "id": "f028407b",
   "metadata": {},
   "outputs": [
    {
     "data": {
      "text/plain": [
       "True"
      ]
     },
     "execution_count": 55,
     "metadata": {},
     "output_type": "execute_result"
    }
   ],
   "source": [
    "\"name\".isalnum()"
   ]
  },
  {
   "cell_type": "code",
   "execution_count": 59,
   "id": "9e7643b6",
   "metadata": {},
   "outputs": [
    {
     "data": {
      "text/plain": [
       "False"
      ]
     },
     "execution_count": 59,
     "metadata": {},
     "output_type": "execute_result"
    }
   ],
   "source": [
    "\"NUM23%\".isalnum()"
   ]
  },
  {
   "cell_type": "code",
   "execution_count": 60,
   "id": "3092d8bc",
   "metadata": {},
   "outputs": [
    {
     "data": {
      "text/plain": [
       "True"
      ]
     },
     "execution_count": 60,
     "metadata": {},
     "output_type": "execute_result"
    }
   ],
   "source": [
    "\"bangladesh\".isalpha()"
   ]
  },
  {
   "cell_type": "code",
   "execution_count": 61,
   "id": "2ca92897",
   "metadata": {},
   "outputs": [
    {
     "data": {
      "text/plain": [
       "True"
      ]
     },
     "execution_count": 61,
     "metadata": {},
     "output_type": "execute_result"
    }
   ],
   "source": [
    "\"2344\".isdigit()"
   ]
  },
  {
   "cell_type": "code",
   "execution_count": 62,
   "id": "c6a56938",
   "metadata": {},
   "outputs": [
    {
     "data": {
      "text/plain": [
       "True"
      ]
     },
     "execution_count": 62,
     "metadata": {},
     "output_type": "execute_result"
    }
   ],
   "source": [
    "\"hello_world\".isidentifier()"
   ]
  },
  {
   "cell_type": "code",
   "execution_count": 63,
   "id": "8cf0b52f",
   "metadata": {},
   "outputs": [
    {
     "data": {
      "text/plain": [
       "False"
      ]
     },
     "execution_count": 63,
     "metadata": {},
     "output_type": "execute_result"
    }
   ],
   "source": [
    "\"hello world\".isidentifier()"
   ]
  },
  {
   "cell_type": "markdown",
   "id": "333451b4",
   "metadata": {},
   "source": [
    "**7.split**"
   ]
  },
  {
   "cell_type": "code",
   "execution_count": 64,
   "id": "f6679645",
   "metadata": {},
   "outputs": [
    {
     "data": {
      "text/plain": [
       "['I', 'am', 'you', 'boss']"
      ]
     },
     "execution_count": 64,
     "metadata": {},
     "output_type": "execute_result"
    }
   ],
   "source": [
    "\"I am you boss\".split()"
   ]
  },
  {
   "cell_type": "code",
   "execution_count": 65,
   "id": "e6d97189",
   "metadata": {},
   "outputs": [
    {
     "data": {
      "text/plain": [
       "['I am ', ' boss']"
      ]
     },
     "execution_count": 65,
     "metadata": {},
     "output_type": "execute_result"
    }
   ],
   "source": [
    "\"I am your boss\".split(\"your\")"
   ]
  },
  {
   "cell_type": "markdown",
   "id": "c44e1454",
   "metadata": {},
   "source": [
    "**8.join**"
   ]
  },
  {
   "cell_type": "code",
   "execution_count": 68,
   "id": "88c8f40a",
   "metadata": {},
   "outputs": [
    {
     "data": {
      "text/plain": [
       "' -I- -a-m- -y-o-u-r- -b-o-s-s- '"
      ]
     },
     "execution_count": 68,
     "metadata": {},
     "output_type": "execute_result"
    }
   ],
   "source": [
    "\"-\".join(\" I am your boss \")"
   ]
  },
  {
   "cell_type": "code",
   "execution_count": 69,
   "id": "889e0274",
   "metadata": {},
   "outputs": [
    {
     "data": {
      "text/plain": [
       "' I am your boss '"
      ]
     },
     "execution_count": 69,
     "metadata": {},
     "output_type": "execute_result"
    }
   ],
   "source": [
    "\"-\".join([\" I am your boss \"])"
   ]
  },
  {
   "cell_type": "markdown",
   "id": "35583eb2",
   "metadata": {},
   "source": [
    "**9.replace**"
   ]
  },
  {
   "cell_type": "code",
   "execution_count": 70,
   "id": "4103c741",
   "metadata": {},
   "outputs": [
    {
     "data": {
      "text/plain": [
       "'I am your joss'"
      ]
     },
     "execution_count": 70,
     "metadata": {},
     "output_type": "execute_result"
    }
   ],
   "source": [
    "\"I am your boss\".replace(\"boss\",\"joss\")"
   ]
  },
  {
   "cell_type": "code",
   "execution_count": null,
   "id": "33100415",
   "metadata": {},
   "outputs": [],
   "source": []
  }
 ],
 "metadata": {
  "kernelspec": {
   "display_name": "Python 3 (ipykernel)",
   "language": "python",
   "name": "python3"
  },
  "language_info": {
   "codemirror_mode": {
    "name": "ipython",
    "version": 3
   },
   "file_extension": ".py",
   "mimetype": "text/x-python",
   "name": "python",
   "nbconvert_exporter": "python",
   "pygments_lexer": "ipython3",
   "version": "3.9.12"
  },
  "varInspector": {
   "cols": {
    "lenName": 16,
    "lenType": 16,
    "lenVar": 40
   },
   "kernels_config": {
    "python": {
     "delete_cmd_postfix": "",
     "delete_cmd_prefix": "del ",
     "library": "var_list.py",
     "varRefreshCmd": "print(var_dic_list())"
    },
    "r": {
     "delete_cmd_postfix": ") ",
     "delete_cmd_prefix": "rm(",
     "library": "var_list.r",
     "varRefreshCmd": "cat(var_dic_list()) "
    }
   },
   "types_to_exclude": [
    "module",
    "function",
    "builtin_function_or_method",
    "instance",
    "_Feature"
   ],
   "window_display": false
  }
 },
 "nbformat": 4,
 "nbformat_minor": 5
}
