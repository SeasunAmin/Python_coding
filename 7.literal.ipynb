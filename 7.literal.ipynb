{
 "cells": [
  {
   "cell_type": "markdown",
   "id": "1a339c95",
   "metadata": {},
   "source": [
    "# Literals\n",
    "Literal is a row data given in variable. In python,there are varios types of literals :\n",
    "* Numeric literal\n",
    "* String literal\n",
    "* Boolean literal\n",
    "* Sepecial literal"
   ]
  },
  {
   "cell_type": "markdown",
   "id": "71721dfc",
   "metadata": {},
   "source": [
    "**Numeric Literal**"
   ]
  },
  {
   "cell_type": "code",
   "execution_count": 5,
   "id": "895c4ed6",
   "metadata": {},
   "outputs": [
    {
     "name": "stdout",
     "output_type": "stream",
     "text": [
      "10 100 200 300\n",
      "2.45 1500.0 0.0015\n",
      "3.45j 3.45 0.0 <built-in method conjugate of complex object at 0x000001A4509CF5B0>\n"
     ]
    }
   ],
   "source": [
    "a = 0b1010 #binary literal\n",
    "b = 100 #decimal literal\n",
    "c = 0o310 #octal literal\n",
    "d = 0x12c #hexadecimal\n",
    "\n",
    "\n",
    "#float literal\n",
    "\n",
    "f_1 = 2.45\n",
    "f_2 = 1.5e3\n",
    "f_3 = 1.5e-3\n",
    "\n",
    "\n",
    "#complex literal\n",
    "\n",
    "x = 3.45j\n",
    "\n",
    "print(a,b,c,d)\n",
    "print(f_1,f_2,f_3)\n",
    "print(x,x.imag,x.real)"
   ]
  },
  {
   "cell_type": "markdown",
   "id": "174a98a2",
   "metadata": {},
   "source": [
    "**String Literal**"
   ]
  },
  {
   "cell_type": "code",
   "execution_count": 13,
   "id": "ad8e4810",
   "metadata": {},
   "outputs": [
    {
     "name": "stdout",
     "output_type": "stream",
     "text": [
      "Nazrul Amin Seasun\n",
      "Nazrul Amin Seasun\n",
      "Multiline String \n",
      "😀😐\n",
      "\\n hello <>\n"
     ]
    }
   ],
   "source": [
    "name = 'Nazrul Amin Seasun'\n",
    "name_2 = \"Nazrul Amin Seasun\"\n",
    "multiline = \"\"\"Multiline String \"\"\"\n",
    "unicode = u\"\\U0001F600\\U0001F610\"\n",
    "raw_String = r\"\\n hello <>\"\n",
    "\n",
    "print(name)\n",
    "print(name_2)\n",
    "print(multiline)\n",
    "print(unicode)\n",
    "print(raw_String)"
   ]
  },
  {
   "cell_type": "markdown",
   "id": "9a5e430f",
   "metadata": {},
   "source": [
    "**Boolean literal**"
   ]
  },
  {
   "cell_type": "code",
   "execution_count": 14,
   "id": "f55c0c76",
   "metadata": {},
   "outputs": [
    {
     "name": "stdout",
     "output_type": "stream",
     "text": [
      "a : 5\n",
      "b : 10\n"
     ]
    }
   ],
   "source": [
    "a = True +4\n",
    "b = False +10\n",
    "\n",
    "print(\"a :\",a)\n",
    "print(\"b :\",b)"
   ]
  },
  {
   "cell_type": "markdown",
   "id": "d9ac79c2",
   "metadata": {},
   "source": [
    "**Sepecial literal**"
   ]
  },
  {
   "cell_type": "code",
   "execution_count": 15,
   "id": "b77bfac1",
   "metadata": {},
   "outputs": [
    {
     "name": "stdout",
     "output_type": "stream",
     "text": [
      "None\n"
     ]
    }
   ],
   "source": [
    "a = None\n",
    "print(a)"
   ]
  },
  {
   "cell_type": "code",
   "execution_count": null,
   "id": "020a98dd",
   "metadata": {},
   "outputs": [],
   "source": []
  }
 ],
 "metadata": {
  "kernelspec": {
   "display_name": "Python 3 (ipykernel)",
   "language": "python",
   "name": "python3"
  },
  "language_info": {
   "codemirror_mode": {
    "name": "ipython",
    "version": 3
   },
   "file_extension": ".py",
   "mimetype": "text/x-python",
   "name": "python",
   "nbconvert_exporter": "python",
   "pygments_lexer": "ipython3",
   "version": "3.9.12"
  },
  "varInspector": {
   "cols": {
    "lenName": 16,
    "lenType": 16,
    "lenVar": 40
   },
   "kernels_config": {
    "python": {
     "delete_cmd_postfix": "",
     "delete_cmd_prefix": "del ",
     "library": "var_list.py",
     "varRefreshCmd": "print(var_dic_list())"
    },
    "r": {
     "delete_cmd_postfix": ") ",
     "delete_cmd_prefix": "rm(",
     "library": "var_list.r",
     "varRefreshCmd": "cat(var_dic_list()) "
    }
   },
   "types_to_exclude": [
    "module",
    "function",
    "builtin_function_or_method",
    "instance",
    "_Feature"
   ],
   "window_display": false
  }
 },
 "nbformat": 4,
 "nbformat_minor": 5
}
