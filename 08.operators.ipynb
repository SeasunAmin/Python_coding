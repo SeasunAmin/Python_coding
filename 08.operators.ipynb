{
 "cells": [
  {
   "cell_type": "markdown",
   "id": "e276bb48",
   "metadata": {},
   "source": [
    "# Operators\n",
    "Operator are userd to perfrom operation on variable and values. Python has following operators: \n",
    "* Arithmetic operators.\n",
    "* Comparison operators.\n",
    "* Logical operators.\n",
    "* Assignment operators.\n",
    "* Identity operators.\n",
    "* Membership operators.\n",
    "* Bitwise operators.\n"
   ]
  },
  {
   "cell_type": "markdown",
   "id": "619aa36e",
   "metadata": {},
   "source": [
    "**Arithmetic OPerators**"
   ]
  },
  {
   "cell_type": "code",
   "execution_count": 8,
   "id": "1a3de3cd",
   "metadata": {},
   "outputs": [
    {
     "name": "stdout",
     "output_type": "stream",
     "text": [
      "15\n",
      "5\n",
      "50\n",
      "2.0\n",
      "0\n"
     ]
    }
   ],
   "source": [
    "x = 10\n",
    "y = 5\n",
    "\n",
    "result_1 = x + y\n",
    "result_2 = x - y\n",
    "result_3 = x * y  # **\n",
    "result_4 = x / y  # // is use to devitio with int convertion.\n",
    "result_5 = x % y\n",
    "\n",
    "\n",
    "print(result_1)\n",
    "print(result_2)\n",
    "print(result_3)\n",
    "print(result_4)\n",
    "print(result_5)"
   ]
  },
  {
   "cell_type": "markdown",
   "id": "25167645",
   "metadata": {},
   "source": [
    "**Comparison operators.**"
   ]
  },
  {
   "cell_type": "code",
   "execution_count": 13,
   "id": "74e37b3f",
   "metadata": {},
   "outputs": [
    {
     "name": "stdout",
     "output_type": "stream",
     "text": [
      "True\n",
      "False\n",
      "False\n",
      "True\n",
      "False\n",
      "True\n"
     ]
    }
   ],
   "source": [
    "x = 10\n",
    "y = 5\n",
    "\n",
    "print(x>y)\n",
    "print(x<y)\n",
    "print(x==y)\n",
    "print(x>=y)\n",
    "print(x<=y)\n",
    "print(x!=y)\n",
    "\n"
   ]
  },
  {
   "cell_type": "markdown",
   "id": "5eccc08c",
   "metadata": {},
   "source": [
    "**Logical operators.**"
   ]
  },
  {
   "cell_type": "code",
   "execution_count": 15,
   "id": "390a58ca",
   "metadata": {},
   "outputs": [
    {
     "name": "stdout",
     "output_type": "stream",
     "text": [
      "True\n",
      "False\n",
      "False\n"
     ]
    }
   ],
   "source": [
    "x = True\n",
    "y = False\n",
    "\n",
    "print(x or y)\n",
    "print(x and y)\n",
    "print(not x)"
   ]
  },
  {
   "cell_type": "markdown",
   "id": "2dfe1f0a",
   "metadata": {},
   "source": [
    "**Assignment operators.**"
   ]
  },
  {
   "cell_type": "code",
   "execution_count": 19,
   "id": "212ece88",
   "metadata": {},
   "outputs": [
    {
     "name": "stdout",
     "output_type": "stream",
     "text": [
      "10\n",
      "13\n",
      "11\n"
     ]
    }
   ],
   "source": [
    "a =10\n",
    "print(a)\n",
    "\n",
    "a +=3\n",
    "print(a)\n",
    "\n",
    "a -=2\n",
    "print(a)"
   ]
  },
  {
   "cell_type": "markdown",
   "id": "75c3858d",
   "metadata": {},
   "source": [
    "**Identity operators.**\n",
    "* chek the variablbs are in the same memory address or not."
   ]
  },
  {
   "cell_type": "code",
   "execution_count": 22,
   "id": "b97ca98d",
   "metadata": {},
   "outputs": [
    {
     "name": "stdout",
     "output_type": "stream",
     "text": [
      "True\n",
      "True\n",
      "False\n"
     ]
    }
   ],
   "source": [
    "a = 10\n",
    "b = 10\n",
    "\n",
    "c = \"Hello\"\n",
    "d = \"Hello\"\n",
    "\n",
    "e = [1,2,3]\n",
    "f = [1,2,3,]\n",
    "\n",
    "print(a is b)\n",
    "print(c is d)\n",
    "print(e is f)"
   ]
  },
  {
   "cell_type": "markdown",
   "id": "1f0f2cb6",
   "metadata": {},
   "source": [
    "**Membership operators.**"
   ]
  },
  {
   "cell_type": "code",
   "execution_count": 24,
   "id": "160f1e96",
   "metadata": {},
   "outputs": [
    {
     "name": "stdout",
     "output_type": "stream",
     "text": [
      "True\n",
      "True\n"
     ]
    }
   ],
   "source": [
    "a = \"Bangladesh\"\n",
    "\n",
    "print(\"g\" in a)\n",
    "print(\"z\" not in a)"
   ]
  },
  {
   "cell_type": "code",
   "execution_count": null,
   "id": "3f59b319",
   "metadata": {},
   "outputs": [],
   "source": []
  }
 ],
 "metadata": {
  "kernelspec": {
   "display_name": "Python 3 (ipykernel)",
   "language": "python",
   "name": "python3"
  },
  "language_info": {
   "codemirror_mode": {
    "name": "ipython",
    "version": 3
   },
   "file_extension": ".py",
   "mimetype": "text/x-python",
   "name": "python",
   "nbconvert_exporter": "python",
   "pygments_lexer": "ipython3",
   "version": "3.9.12"
  },
  "varInspector": {
   "cols": {
    "lenName": 16,
    "lenType": 16,
    "lenVar": 40
   },
   "kernels_config": {
    "python": {
     "delete_cmd_postfix": "",
     "delete_cmd_prefix": "del ",
     "library": "var_list.py",
     "varRefreshCmd": "print(var_dic_list())"
    },
    "r": {
     "delete_cmd_postfix": ") ",
     "delete_cmd_prefix": "rm(",
     "library": "var_list.r",
     "varRefreshCmd": "cat(var_dic_list()) "
    }
   },
   "types_to_exclude": [
    "module",
    "function",
    "builtin_function_or_method",
    "instance",
    "_Feature"
   ],
   "window_display": false
  }
 },
 "nbformat": 4,
 "nbformat_minor": 5
}
