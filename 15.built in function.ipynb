{
 "cells": [
  {
   "cell_type": "markdown",
   "id": "9fe29bcf",
   "metadata": {},
   "source": [
    "**1.Print**\n"
   ]
  },
  {
   "cell_type": "code",
   "execution_count": 1,
   "id": "35fdb61c",
   "metadata": {},
   "outputs": [
    {
     "name": "stdout",
     "output_type": "stream",
     "text": [
      "Hello\n"
     ]
    }
   ],
   "source": [
    "print(\"Hello\")"
   ]
  },
  {
   "cell_type": "markdown",
   "id": "298bfcd7",
   "metadata": {},
   "source": [
    "**2.Input**"
   ]
  },
  {
   "cell_type": "code",
   "execution_count": 2,
   "id": "5d040c50",
   "metadata": {},
   "outputs": [
    {
     "name": "stdout",
     "output_type": "stream",
     "text": [
      "name : 1\n"
     ]
    },
    {
     "data": {
      "text/plain": [
       "'1'"
      ]
     },
     "execution_count": 2,
     "metadata": {},
     "output_type": "execute_result"
    }
   ],
   "source": [
    "input(\"name : \")"
   ]
  },
  {
   "cell_type": "markdown",
   "id": "3b2541ec",
   "metadata": {},
   "source": [
    "**3.Type**"
   ]
  },
  {
   "cell_type": "code",
   "execution_count": 8,
   "id": "0274401b",
   "metadata": {},
   "outputs": [
    {
     "data": {
      "text/plain": [
       "bool"
      ]
     },
     "execution_count": 8,
     "metadata": {},
     "output_type": "execute_result"
    }
   ],
   "source": [
    "num = True\n",
    "type(num)"
   ]
  },
  {
   "cell_type": "markdown",
   "id": "c54ab739",
   "metadata": {},
   "source": [
    "**4.abs**"
   ]
  },
  {
   "cell_type": "code",
   "execution_count": 9,
   "id": "f61d9eaa",
   "metadata": {},
   "outputs": [
    {
     "data": {
      "text/plain": [
       "10"
      ]
     },
     "execution_count": 9,
     "metadata": {},
     "output_type": "execute_result"
    }
   ],
   "source": [
    "abs(-10)"
   ]
  },
  {
   "cell_type": "markdown",
   "id": "e49097a5",
   "metadata": {},
   "source": [
    "**5.pow**"
   ]
  },
  {
   "cell_type": "code",
   "execution_count": 10,
   "id": "3e1e2255",
   "metadata": {},
   "outputs": [
    {
     "data": {
      "text/plain": [
       "8"
      ]
     },
     "execution_count": 10,
     "metadata": {},
     "output_type": "execute_result"
    }
   ],
   "source": [
    "pow(2,3)"
   ]
  },
  {
   "cell_type": "markdown",
   "id": "aa8ac711",
   "metadata": {},
   "source": [
    "**6.min/max**"
   ]
  },
  {
   "cell_type": "code",
   "execution_count": 16,
   "id": "2e7bb991",
   "metadata": {},
   "outputs": [
    {
     "data": {
      "text/plain": [
       "1"
      ]
     },
     "execution_count": 16,
     "metadata": {},
     "output_type": "execute_result"
    }
   ],
   "source": [
    "min([1,2,3,4,6])"
   ]
  },
  {
   "cell_type": "markdown",
   "id": "6a44a8cd",
   "metadata": {},
   "source": [
    "**7.round**"
   ]
  },
  {
   "cell_type": "code",
   "execution_count": 13,
   "id": "78cb51b2",
   "metadata": {},
   "outputs": [
    {
     "data": {
      "text/plain": [
       "3"
      ]
     },
     "execution_count": 13,
     "metadata": {},
     "output_type": "execute_result"
    }
   ],
   "source": [
    "round(2.789089)"
   ]
  },
  {
   "cell_type": "code",
   "execution_count": 15,
   "id": "79ff7a5e",
   "metadata": {},
   "outputs": [
    {
     "data": {
      "text/plain": [
       "1.46"
      ]
     },
     "execution_count": 15,
     "metadata": {},
     "output_type": "execute_result"
    }
   ],
   "source": [
    "a=1.45565\n",
    "round(a,2)"
   ]
  },
  {
   "cell_type": "markdown",
   "id": "d6078b09",
   "metadata": {},
   "source": [
    "**8.divmod**"
   ]
  },
  {
   "cell_type": "code",
   "execution_count": 18,
   "id": "3c4f2c6b",
   "metadata": {},
   "outputs": [
    {
     "data": {
      "text/plain": [
       "(2, 1)"
      ]
     },
     "execution_count": 18,
     "metadata": {},
     "output_type": "execute_result"
    }
   ],
   "source": [
    "divmod(5,2)"
   ]
  },
  {
   "cell_type": "markdown",
   "id": "ec64718f",
   "metadata": {},
   "source": [
    "**9.bin/oct/hex**"
   ]
  },
  {
   "cell_type": "code",
   "execution_count": 19,
   "id": "291f1958",
   "metadata": {},
   "outputs": [
    {
     "data": {
      "text/plain": [
       "'0b1100100'"
      ]
     },
     "execution_count": 19,
     "metadata": {},
     "output_type": "execute_result"
    }
   ],
   "source": [
    "bin(100)"
   ]
  },
  {
   "cell_type": "markdown",
   "id": "f49591a0",
   "metadata": {},
   "source": [
    "**10.id**\n",
    "for finding memory addres."
   ]
  },
  {
   "cell_type": "code",
   "execution_count": 20,
   "id": "983e8df6",
   "metadata": {},
   "outputs": [
    {
     "data": {
      "text/plain": [
       "3122392623696"
      ]
     },
     "execution_count": 20,
     "metadata": {},
     "output_type": "execute_result"
    }
   ],
   "source": [
    "a = 10\n",
    "id(a)"
   ]
  },
  {
   "cell_type": "markdown",
   "id": "98dc9ad0",
   "metadata": {},
   "source": [
    "**11.ord**"
   ]
  },
  {
   "cell_type": "code",
   "execution_count": 21,
   "id": "fb6cfca3",
   "metadata": {},
   "outputs": [
    {
     "data": {
      "text/plain": [
       "67"
      ]
     },
     "execution_count": 21,
     "metadata": {},
     "output_type": "execute_result"
    }
   ],
   "source": [
    "ord(\"C\")"
   ]
  },
  {
   "cell_type": "markdown",
   "id": "eddba7b6",
   "metadata": {},
   "source": [
    "**12.len**"
   ]
  },
  {
   "cell_type": "code",
   "execution_count": 23,
   "id": "21ac9cab",
   "metadata": {},
   "outputs": [
    {
     "data": {
      "text/plain": [
       "5"
      ]
     },
     "execution_count": 23,
     "metadata": {},
     "output_type": "execute_result"
    }
   ],
   "source": [
    "\n",
    "len([1,2,3,4,5])"
   ]
  },
  {
   "cell_type": "markdown",
   "id": "13e0d51d",
   "metadata": {},
   "source": [
    "**13.sum**"
   ]
  },
  {
   "cell_type": "code",
   "execution_count": 24,
   "id": "be431a76",
   "metadata": {},
   "outputs": [
    {
     "data": {
      "text/plain": [
       "15"
      ]
     },
     "execution_count": 24,
     "metadata": {},
     "output_type": "execute_result"
    }
   ],
   "source": [
    "sum([1,2,3,4,5])"
   ]
  },
  {
   "cell_type": "markdown",
   "id": "e378d2ba",
   "metadata": {},
   "source": [
    "**14.help**"
   ]
  },
  {
   "cell_type": "code",
   "execution_count": 25,
   "id": "e0760446",
   "metadata": {},
   "outputs": [
    {
     "name": "stdout",
     "output_type": "stream",
     "text": [
      "Help on built-in function print in module builtins:\n",
      "\n",
      "print(...)\n",
      "    print(value, ..., sep=' ', end='\\n', file=sys.stdout, flush=False)\n",
      "    \n",
      "    Prints the values to a stream, or to sys.stdout by default.\n",
      "    Optional keyword arguments:\n",
      "    file:  a file-like object (stream); defaults to the current sys.stdout.\n",
      "    sep:   string inserted between values, default a space.\n",
      "    end:   string appended after the last value, default a newline.\n",
      "    flush: whether to forcibly flush the stream.\n",
      "\n"
     ]
    }
   ],
   "source": [
    "help(\"print\")"
   ]
  },
  {
   "cell_type": "code",
   "execution_count": null,
   "id": "022e60fd",
   "metadata": {},
   "outputs": [],
   "source": []
  }
 ],
 "metadata": {
  "kernelspec": {
   "display_name": "Python 3 (ipykernel)",
   "language": "python",
   "name": "python3"
  },
  "language_info": {
   "codemirror_mode": {
    "name": "ipython",
    "version": 3
   },
   "file_extension": ".py",
   "mimetype": "text/x-python",
   "name": "python",
   "nbconvert_exporter": "python",
   "pygments_lexer": "ipython3",
   "version": "3.9.12"
  },
  "varInspector": {
   "cols": {
    "lenName": 16,
    "lenType": 16,
    "lenVar": 40
   },
   "kernels_config": {
    "python": {
     "delete_cmd_postfix": "",
     "delete_cmd_prefix": "del ",
     "library": "var_list.py",
     "varRefreshCmd": "print(var_dic_list())"
    },
    "r": {
     "delete_cmd_postfix": ") ",
     "delete_cmd_prefix": "rm(",
     "library": "var_list.r",
     "varRefreshCmd": "cat(var_dic_list()) "
    }
   },
   "types_to_exclude": [
    "module",
    "function",
    "builtin_function_or_method",
    "instance",
    "_Feature"
   ],
   "window_display": false
  }
 },
 "nbformat": 4,
 "nbformat_minor": 5
}
