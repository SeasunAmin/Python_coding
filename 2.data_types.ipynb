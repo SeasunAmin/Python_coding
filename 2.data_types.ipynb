{
 "cells": [
  {
   "cell_type": "markdown",
   "id": "653a34ea",
   "metadata": {},
   "source": [
    "# Python support 3 categories of data types:\n",
    "    \n",
    "    Basic Types - (integer,float,complex,boolean and string)\n",
    "    Container Types - (List,Tuples,Set and Dictionary)\n",
    "    User define Types - Class\n",
    "    "
   ]
  },
  {
   "cell_type": "code",
   "execution_count": 5,
   "id": "b2f34ee8",
   "metadata": {},
   "outputs": [
    {
     "name": "stdout",
     "output_type": "stream",
     "text": [
      "10\n",
      "1e+308\n",
      "inf\n"
     ]
    }
   ],
   "source": [
    "#integer\n",
    "\n",
    "print(10)\n",
    "print(1e308)\n",
    "print(1e309)"
   ]
  },
  {
   "cell_type": "code",
   "execution_count": 8,
   "id": "011fae0f",
   "metadata": {},
   "outputs": [
    {
     "name": "stdout",
     "output_type": "stream",
     "text": [
      "3.45\n",
      "1.7e+308\n",
      "inf\n"
     ]
    }
   ],
   "source": [
    "#float\n",
    "\n",
    "print(3.45)\n",
    "print(1.7e308)\n",
    "print(1.7e309)"
   ]
  },
  {
   "cell_type": "code",
   "execution_count": 9,
   "id": "74fb863a",
   "metadata": {},
   "outputs": [
    {
     "name": "stdout",
     "output_type": "stream",
     "text": [
      "True\n",
      "False\n"
     ]
    }
   ],
   "source": [
    "#boolean\n",
    "\n",
    "print(True)\n",
    "print(False)"
   ]
  },
  {
   "cell_type": "code",
   "execution_count": 19,
   "id": "6ae6773d",
   "metadata": {},
   "outputs": [
    {
     "name": "stdout",
     "output_type": "stream",
     "text": [
      "(4+9j)\n"
     ]
    }
   ],
   "source": [
    "#complex\n",
    "\n",
    "print(4 + 9j)"
   ]
  },
  {
   "cell_type": "code",
   "execution_count": 22,
   "id": "a0155094",
   "metadata": {},
   "outputs": [
    {
     "name": "stdout",
     "output_type": "stream",
     "text": [
      "hello\n",
      "Hello all\n",
      "Hello my dear friends \n"
     ]
    }
   ],
   "source": [
    "#String\n",
    "\n",
    "print('hello')\n",
    "print(\"Hello all\")\n",
    "print(\"\"\"Hello my dear friends \"\"\")"
   ]
  },
  {
   "cell_type": "code",
   "execution_count": 23,
   "id": "f793c8e8",
   "metadata": {},
   "outputs": [
    {
     "name": "stdout",
     "output_type": "stream",
     "text": [
      "[1, 2, 3, 4, 5]\n"
     ]
    }
   ],
   "source": [
    "#List ( list user [] )\n",
    "\n",
    "print([1,2,3,4,5])"
   ]
  },
  {
   "cell_type": "code",
   "execution_count": 24,
   "id": "3fb0b4da",
   "metadata": {},
   "outputs": [
    {
     "name": "stdout",
     "output_type": "stream",
     "text": [
      "(1, 2, 3, 4, 5)\n"
     ]
    }
   ],
   "source": [
    "#Tuple (tuple use () )\n",
    "\n",
    "print((1,2,3,4,5))"
   ]
  },
  {
   "cell_type": "code",
   "execution_count": 25,
   "id": "f8b0c2c2",
   "metadata": {},
   "outputs": [
    {
     "name": "stdout",
     "output_type": "stream",
     "text": [
      "{1, 2, 3, 4, 5}\n"
     ]
    }
   ],
   "source": [
    "#set ( set use {})\n",
    "\n",
    "print({1,2,3,4,5})"
   ]
  },
  {
   "cell_type": "code",
   "execution_count": 27,
   "id": "6f4122e7",
   "metadata": {},
   "outputs": [
    {
     "name": "stdout",
     "output_type": "stream",
     "text": [
      "{'Name': 'Seasun', 'Age': 22, 'Gender': 'Male'}\n"
     ]
    }
   ],
   "source": [
    "#Dictionary  (user {})\n",
    "\n",
    "print({\"Name\":\"Seasun\",\"Age\":22,\"Gender\":\"Male\"})"
   ]
  },
  {
   "cell_type": "code",
   "execution_count": null,
   "id": "b5cae7d0",
   "metadata": {},
   "outputs": [],
   "source": []
  }
 ],
 "metadata": {
  "kernelspec": {
   "display_name": "Python 3 (ipykernel)",
   "language": "python",
   "name": "python3"
  },
  "language_info": {
   "codemirror_mode": {
    "name": "ipython",
    "version": 3
   },
   "file_extension": ".py",
   "mimetype": "text/x-python",
   "name": "python",
   "nbconvert_exporter": "python",
   "pygments_lexer": "ipython3",
   "version": "3.9.12"
  },
  "varInspector": {
   "cols": {
    "lenName": 16,
    "lenType": 16,
    "lenVar": 40
   },
   "kernels_config": {
    "python": {
     "delete_cmd_postfix": "",
     "delete_cmd_prefix": "del ",
     "library": "var_list.py",
     "varRefreshCmd": "print(var_dic_list())"
    },
    "r": {
     "delete_cmd_postfix": ") ",
     "delete_cmd_prefix": "rm(",
     "library": "var_list.r",
     "varRefreshCmd": "cat(var_dic_list()) "
    }
   },
   "types_to_exclude": [
    "module",
    "function",
    "builtin_function_or_method",
    "instance",
    "_Feature"
   ],
   "window_display": false
  }
 },
 "nbformat": 4,
 "nbformat_minor": 5
}
