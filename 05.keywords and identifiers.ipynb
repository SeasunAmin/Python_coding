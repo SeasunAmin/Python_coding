{
 "cells": [
  {
   "cell_type": "markdown",
   "id": "3482c3ff",
   "metadata": {},
   "source": [
    "# Keyword"
   ]
  },
  {
   "cell_type": "markdown",
   "id": "27d607db",
   "metadata": {},
   "source": [
    "* Python is a case sensitive language."
   ]
  },
  {
   "cell_type": "markdown",
   "id": "965fc169",
   "metadata": {},
   "source": [
    "In the context of a programming language, a keyword is a closely related or associated word \n",
    "that is reserved by a program because, the word has a special meaning that defines commands and \n",
    "specific parameters for that code set."
   ]
  },
  {
   "cell_type": "code",
   "execution_count": 1,
   "id": "c435195a",
   "metadata": {},
   "outputs": [
    {
     "name": "stdout",
     "output_type": "stream",
     "text": [
      "['False', 'None', 'True', '__peg_parser__', 'and', 'as', 'assert', 'async', 'await', 'break', 'class', 'continue', 'def', 'del', 'elif', 'else', 'except', 'finally', 'for', 'from', 'global', 'if', 'import', 'in', 'is', 'lambda', 'nonlocal', 'not', 'or', 'pass', 'raise', 'return', 'try', 'while', 'with', 'yield']\n"
     ]
    }
   ],
   "source": [
    "#Python has 33 keywords\n",
    "\n",
    "\n",
    "import keyword\n",
    "print(keyword.kwlist)\n"
   ]
  },
  {
   "cell_type": "markdown",
   "id": "77d077ab",
   "metadata": {},
   "source": [
    "# Identifiers"
   ]
  },
  {
   "cell_type": "markdown",
   "id": "0a3ad368",
   "metadata": {},
   "source": [
    " Python Identifier is the name we give to identify a variable, function, class, module or other object."
   ]
  },
  {
   "cell_type": "markdown",
   "id": "31036d73",
   "metadata": {},
   "source": [
    "**Rules of setting identifiers**"
   ]
  },
  {
   "cell_type": "markdown",
   "id": "b4632adf",
   "metadata": {},
   "source": [
    "* Identifiers can be combination of uppercase and lowercase letters, digits or an underscore(_). So myVariable, variable_1, variable_for_print all are valid python identifiers.\n",
    "\n",
    "* An Identifier can not start with digit. So while variable1 is valid, 1variable is not valid.\n",
    "\n",
    "* We can’t use special symbols like !,#,@,%,$ etc in our Identifier.\n",
    "\n",
    "* Identifier can be of any length."
   ]
  },
  {
   "cell_type": "code",
   "execution_count": null,
   "id": "20cdaeb7",
   "metadata": {},
   "outputs": [],
   "source": []
  }
 ],
 "metadata": {
  "kernelspec": {
   "display_name": "Python 3 (ipykernel)",
   "language": "python",
   "name": "python3"
  },
  "language_info": {
   "codemirror_mode": {
    "name": "ipython",
    "version": 3
   },
   "file_extension": ".py",
   "mimetype": "text/x-python",
   "name": "python",
   "nbconvert_exporter": "python",
   "pygments_lexer": "ipython3",
   "version": "3.9.12"
  },
  "varInspector": {
   "cols": {
    "lenName": 16,
    "lenType": 16,
    "lenVar": 40
   },
   "kernels_config": {
    "python": {
     "delete_cmd_postfix": "",
     "delete_cmd_prefix": "del ",
     "library": "var_list.py",
     "varRefreshCmd": "print(var_dic_list())"
    },
    "r": {
     "delete_cmd_postfix": ") ",
     "delete_cmd_prefix": "rm(",
     "library": "var_list.r",
     "varRefreshCmd": "cat(var_dic_list()) "
    }
   },
   "types_to_exclude": [
    "module",
    "function",
    "builtin_function_or_method",
    "instance",
    "_Feature"
   ],
   "window_display": false
  }
 },
 "nbformat": 4,
 "nbformat_minor": 5
}
