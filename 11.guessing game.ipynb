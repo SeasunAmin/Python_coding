{
 "cells": [
  {
   "cell_type": "code",
   "execution_count": 1,
   "id": "346be6e9",
   "metadata": {},
   "outputs": [],
   "source": [
    "import random\n",
    "\n"
   ]
  },
  {
   "cell_type": "code",
   "execution_count": 20,
   "id": "0ef5c05d",
   "metadata": {},
   "outputs": [
    {
     "name": "stdout",
     "output_type": "stream",
     "text": [
      "Guess : 5\n",
      "Guess higher.\n",
      "Guess : 6\n",
      "Win\n",
      "you took : 2 attempt\n"
     ]
    }
   ],
   "source": [
    "num = random.randint(1,10)\n",
    "guess = int(input(\"Guess : \"))\n",
    "count = 1\n",
    "while guess != num:\n",
    "    if guess<num:\n",
    "        print(\"Guess higher.\")\n",
    "    else:\n",
    "        print(\"Guess lower.\")\n",
    "        \n",
    "    guess = int(input(\"Guess : \"))\n",
    "    count += 1\n",
    "    \n",
    "    \n",
    "print(\"Win\")\n",
    "print(\"you took :\",count,\"attempt\")"
   ]
  },
  {
   "cell_type": "code",
   "execution_count": null,
   "id": "3cd88a66",
   "metadata": {},
   "outputs": [],
   "source": []
  },
  {
   "cell_type": "code",
   "execution_count": null,
   "id": "a0714bce",
   "metadata": {},
   "outputs": [],
   "source": []
  }
 ],
 "metadata": {
  "kernelspec": {
   "display_name": "Python 3 (ipykernel)",
   "language": "python",
   "name": "python3"
  },
  "language_info": {
   "codemirror_mode": {
    "name": "ipython",
    "version": 3
   },
   "file_extension": ".py",
   "mimetype": "text/x-python",
   "name": "python",
   "nbconvert_exporter": "python",
   "pygments_lexer": "ipython3",
   "version": "3.9.12"
  },
  "varInspector": {
   "cols": {
    "lenName": 16,
    "lenType": 16,
    "lenVar": 40
   },
   "kernels_config": {
    "python": {
     "delete_cmd_postfix": "",
     "delete_cmd_prefix": "del ",
     "library": "var_list.py",
     "varRefreshCmd": "print(var_dic_list())"
    },
    "r": {
     "delete_cmd_postfix": ") ",
     "delete_cmd_prefix": "rm(",
     "library": "var_list.r",
     "varRefreshCmd": "cat(var_dic_list()) "
    }
   },
   "types_to_exclude": [
    "module",
    "function",
    "builtin_function_or_method",
    "instance",
    "_Feature"
   ],
   "window_display": false
  }
 },
 "nbformat": 4,
 "nbformat_minor": 5
}
