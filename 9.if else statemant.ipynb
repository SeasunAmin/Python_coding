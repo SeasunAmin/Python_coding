{
 "cells": [
  {
   "cell_type": "markdown",
   "id": "657f085a",
   "metadata": {},
   "source": [
    "# Decision Control Statement"
   ]
  },
  {
   "cell_type": "code",
   "execution_count": 5,
   "id": "e7459e18",
   "metadata": {},
   "outputs": [
    {
     "name": "stdout",
     "output_type": "stream",
     "text": [
      "enter name :seasun\n",
      "enter id :124\n",
      "Wrong id\n",
      "enter currect id:123\n",
      "Hello seasun\n"
     ]
    }
   ],
   "source": [
    "name = input(\"enter name :\")\n",
    "id = input(\"enter id :\")\n",
    "\n",
    "if name == \"seasun\" and id == \"123\":\n",
    "    print(\"Hello Seasun\")\n",
    "    \n",
    "elif name == \"seasun\" and id !='123':\n",
    "    print(\"Wrong id\")\n",
    "    id = input(\"enter currect id:\")\n",
    "    if id == '123':\n",
    "        print(\"Hello seasun\")\n",
    "    else:\n",
    "        print(\"still go away\")\n",
    "    \n",
    "else:\n",
    "    print(\"Go away.\")"
   ]
  },
  {
   "cell_type": "code",
   "execution_count": 10,
   "id": "08617dc8",
   "metadata": {},
   "outputs": [
    {
     "name": "stdout",
     "output_type": "stream",
     "text": [
      "enter email:seasun@gmailcom\n",
      "Error\n"
     ]
    }
   ],
   "source": [
    "\n",
    "\n",
    "log = input(\"enter email:\")\n",
    "if \"@\" and \".com\" in log:\n",
    "    print(\"Welcome\")\n",
    "else:\n",
    "    print(\"Error\")"
   ]
  },
  {
   "cell_type": "code",
   "execution_count": null,
   "id": "92530660",
   "metadata": {},
   "outputs": [],
   "source": []
  }
 ],
 "metadata": {
  "kernelspec": {
   "display_name": "Python 3 (ipykernel)",
   "language": "python",
   "name": "python3"
  },
  "language_info": {
   "codemirror_mode": {
    "name": "ipython",
    "version": 3
   },
   "file_extension": ".py",
   "mimetype": "text/x-python",
   "name": "python",
   "nbconvert_exporter": "python",
   "pygments_lexer": "ipython3",
   "version": "3.9.12"
  },
  "varInspector": {
   "cols": {
    "lenName": 16,
    "lenType": 16,
    "lenVar": 40
   },
   "kernels_config": {
    "python": {
     "delete_cmd_postfix": "",
     "delete_cmd_prefix": "del ",
     "library": "var_list.py",
     "varRefreshCmd": "print(var_dic_list())"
    },
    "r": {
     "delete_cmd_postfix": ") ",
     "delete_cmd_prefix": "rm(",
     "library": "var_list.r",
     "varRefreshCmd": "cat(var_dic_list()) "
    }
   },
   "types_to_exclude": [
    "module",
    "function",
    "builtin_function_or_method",
    "instance",
    "_Feature"
   ],
   "window_display": false
  }
 },
 "nbformat": 4,
 "nbformat_minor": 5
}
